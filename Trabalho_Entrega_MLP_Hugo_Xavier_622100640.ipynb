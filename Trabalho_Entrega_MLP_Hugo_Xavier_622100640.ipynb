{
  "nbformat": 4,
  "nbformat_minor": 0,
  "metadata": {
    "colab": {
      "provenance": [],
      "collapsed_sections": []
    },
    "kernelspec": {
      "name": "python3",
      "display_name": "Python 3"
    },
    "language_info": {
      "name": "python"
    }
  },
  "cells": [
    {
      "cell_type": "code",
      "execution_count": 7,
      "metadata": {
        "id": "VUhCVie-dQW2"
      },
      "outputs": [],
      "source": [
        "import numpy as np\n",
        "from sklearn.linear_model import Perceptron\n",
        "from sklearn.neural_network import MLPClassifier\n",
        "import sys\n",
        "#definindo o caminho para o arquivo de treinamento\n",
        "PATH='/content/drive/MyDrive/Redes Neurais Artificiais/Materiais/Implementações/'"
      ]
    },
    {
      "cell_type": "code",
      "source": [
        "#lê o conjunto de treinamento\n",
        "ct = np.loadtxt(PATH+'Frutas_Tipos.txt')\n",
        "num_padroes, num_atrib = ct.shape\n",
        "#separa padroes (p) e saídas desejadas (d) - Exemplo porta OR\n",
        "#   x0  x1  d\n",
        "#   1\t  1   1\n",
        "#   1\t  0   1\n",
        "#   0\t  1   1\n",
        "#   0\t  0   0\n",
        "X_train = ct[:,0:num_atrib-1]\n",
        "y_train = ct[:,num_atrib-1]\n",
        "#Teste da leitura\n",
        "print('Arquivo lido\\n', ct)"
      ],
      "metadata": {
        "colab": {
          "base_uri": "https://localhost:8080/"
        },
        "id": "0Sa0mq6ydVm5",
        "outputId": "d2c74374-edf9-4c2d-8a39-2fc9b98d018f"
      },
      "execution_count": 8,
      "outputs": [
        {
          "output_type": "stream",
          "name": "stdout",
          "text": [
            "Arquivo lido\n",
            " [[ 0.1  0.4  0.7  1. ]\n",
            " [ 0.5  0.7  0.1  1. ]\n",
            " [ 0.6  0.9  0.8 -1. ]\n",
            " [ 0.3  0.7  0.2 -1. ]]\n"
          ]
        }
      ]
    },
    {
      "cell_type": "code",
      "source": [
        "#Se quiser usar o perceptron\n",
        "#clf = Perceptron(tol=1e-2, random_state=0) \n",
        "\n",
        "#Se quiser usar MLP\n",
        "#Cria a RNA do tipo Multi-layer Perceptron com a configuração indicada\n",
        "clf = MLPClassifier(hidden_layer_sizes=(10,), learning_rate='constant',learning_rate_init=0.005, max_iter=3000)\n",
        "\n",
        "#Treina a RNA\n",
        "clf.fit(X_train, y_train)\n",
        "\n",
        "#Calcula e imprime a acurácia do treinamento\n",
        "acuracia_trein = clf.score(X_train, y_train)\n",
        "print(\"Acurácia do Treinamento = %.2f%%\" %(acuracia_trein*100.0))"
      ],
      "metadata": {
        "colab": {
          "base_uri": "https://localhost:8080/"
        },
        "id": "Zzaz_4BIddff",
        "outputId": "e04c6ed9-e5a2-4190-a2a4-5be92f4d0bc9"
      },
      "execution_count": 9,
      "outputs": [
        {
          "output_type": "stream",
          "name": "stdout",
          "text": [
            "Acurácia do Treinamento = 100.00%\n"
          ]
        }
      ]
    },
    {
      "cell_type": "code",
      "source": [
        "#testes\n",
        "X = np.array([[0.3,0.7,0.2]])\n",
        "print('A saída para a entrada', X, 'é:', clf.predict(X)[0]) \n",
        "\n",
        "#padroes = np.array([[0, 0],\n",
        "#                    [0, 1],\n",
        "#                    [1, 0],\n",
        "#                    [1, 1]])\n",
        "#print('As saídas para o conjunto de padrões é: ', clf.predict(padroes))"
      ],
      "metadata": {
        "colab": {
          "base_uri": "https://localhost:8080/"
        },
        "id": "JufiXc6PdliN",
        "outputId": "b172e67a-6fff-406f-9fa3-47e9265017d0"
      },
      "execution_count": 12,
      "outputs": [
        {
          "output_type": "stream",
          "name": "stdout",
          "text": [
            "A saída para a entrada [[0.3 0.7 0.2]] é: -1.0\n"
          ]
        }
      ]
    }
  ]
}
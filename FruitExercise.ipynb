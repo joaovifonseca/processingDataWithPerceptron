{
  "cells": [
    {
      "cell_type": "code",
      "execution_count": null,
      "metadata": {
        "colab": {
          "base_uri": "https://localhost:8080/"
        },
        "id": "klE2IokTke6m",
        "outputId": "a248c7e6-0c29-4871-91b4-9881f6466302"
      },
      "outputs": [
        {
          "name": "stdout",
          "output_type": "stream",
          "text": [
            "Mounted at /content/drive\n"
          ]
        }
      ],
      "source": [
        "from google.colab import drive\n",
        "drive.mount('/content/drive')"
      ]
    },
    {
      "cell_type": "code",
      "execution_count": 2,
      "metadata": {
        "id": "kVo6WT7tkp9G"
      },
      "outputs": [],
      "source": [
        "import numpy as np\n",
        "import sys\n",
        "#definindo o caminho para o arquivo de treinamento\n",
        "PATH='./'"
      ]
    },
    {
      "cell_type": "code",
      "execution_count": 4,
      "metadata": {
        "id": "fixhN3hdlAEr"
      },
      "outputs": [],
      "source": [
        "#Variáveis globais do algoritmo\n",
        "BIAS    = 0\n",
        "TX_AP   = 0\n",
        "\n",
        "#Métodos/funções/procedimentos\n",
        "#passo 0\n",
        "def le_conj_trein(nome_arq):\n",
        "    try:\n",
        "        ct = np.loadtxt(nome_arq)\n",
        "        return ct # retorna uma a matriz no formato ndarray \n",
        "    except:\n",
        "        print(\"Verifique se o arquivo de treinamento está correto!\")\n",
        "        sys.exit()  # encerra o programa \n",
        "\n",
        "#passo 1    \n",
        "def incializa_pesos(w):\n",
        "    for i in range(len(w)):\n",
        "        w[i] = np.random.uniform(-1, 1)\n",
        "    return w\n",
        "\n",
        "#passo 2    \n",
        "def calc_s(x,w):\n",
        "    s = 0\n",
        "    for i in range(len(x)):\n",
        "        s = s + x[i] * w[i]\n",
        "    return s\n",
        "\n",
        "#passo 3    \n",
        "def calc_y(s):\n",
        "    if s>=0: return 1\n",
        "    else: return -1\n",
        "\n",
        "#passo 4    \n",
        "def calc_erro(d,y):\n",
        "    return d-y\n",
        "\n",
        "#passo 5\n",
        "def atualiza_pesos(w, x, erro):\n",
        "    w1 = w\n",
        "    for i in range(len(w)):\n",
        "        w1[i] = w[i] + TX_AP * erro * x[i]\n",
        "    return w1\n",
        "\n",
        "#Fazer predição\n",
        "def predicao_rna(v):\n",
        "    x = np.append([BIAS],v, axis=0)\n",
        "    s = calc_s(x,w)\n",
        "    y = calc_y(s)\n",
        "    return y"
      ]
    },
    {
      "cell_type": "code",
      "execution_count": 5,
      "metadata": {
        "colab": {
          "base_uri": "https://localhost:8080/"
        },
        "id": "wTboNb4LlIA4",
        "outputId": "0c7612e6-983b-48ec-bd80-6c98c1838ea3"
      },
      "outputs": [
        {
          "name": "stdout",
          "output_type": "stream",
          "text": [
            "Arquivo lido\n",
            " [[ 0.1  0.4  0.7  1. ]\n",
            " [ 0.5  0.7  0.1  1. ]\n",
            " [ 0.6  0.9  0.8 -1. ]\n",
            " [ 0.3  0.7  0.2 -1. ]]\n"
          ]
        }
      ],
      "source": [
        "#lê o conjunto de treinamento (passo 0)\n",
        "ct = le_conj_trein(PATH+'Frutas_Tipos.txt')\n",
        "num_padroes, num_atrib = ct.shape\n",
        "#separa padroes (p) e saídas desejadas (d) - Exemplo porta OR\n",
        "#   x0  x1  d\n",
        "#   1\t  1   1\n",
        "#   1\t  0   1\n",
        "#   0\t  1   1\n",
        "#   0\t  0   0\n",
        "p = ct[:,0:num_atrib-1]\n",
        "d = ct[:,num_atrib-1]\n",
        "\n",
        "#Teste da leitura\n",
        "print('Arquivo lido\\n', ct)"
      ]
    },
    {
      "cell_type": "code",
      "execution_count": 6,
      "metadata": {
        "colab": {
          "base_uri": "https://localhost:8080/"
        },
        "id": "ew5gnvCHl9RH",
        "outputId": "06bdc652-86d8-4c60-d13b-3507e0087743"
      },
      "outputs": [
        {
          "name": "stdout",
          "output_type": "stream",
          "text": [
            "Vetor de pesos inicial: [-0.7862165  -0.9024495  -0.72677913  0.61491008]\n"
          ]
        }
      ],
      "source": [
        "#Inicializa vetor de pesos\n",
        "w = np.zeros((num_atrib),'float')\n",
        "w = incializa_pesos(w)\n",
        "#w = np.array([-0.9, -0.4, -0.3, -0.2])\n",
        "\n",
        "#Define Taxa de Aprendizagem e BIAS\n",
        "TX_AP   = 0.5  #Taxa de Aprendizagem\n",
        "BIAS    = 1.0  #Fixa o valor de Bias\n",
        "print('Vetor de pesos inicial:', w)"
      ]
    },
    {
      "cell_type": "code",
      "execution_count": 7,
      "metadata": {
        "colab": {
          "base_uri": "https://localhost:8080/"
        },
        "id": "tk0GuJJDmd-9",
        "outputId": "f08ddc16-851b-4b86-f5e9-c4a8c09fb60f"
      },
      "outputs": [
        {
          "name": "stdout",
          "output_type": "stream",
          "text": [
            "Número de épocas =  45\n"
          ]
        }
      ],
      "source": [
        "#define número total de épocas permitido e um contador\n",
        "EPOCAS = 10000\n",
        "cont = 1\n",
        "#looping (passos 2 a 7)\n",
        "while(cont < EPOCAS):\n",
        "    erro_tot = 0\n",
        "    for i in range(num_padroes):\n",
        "      x = np.append([BIAS],p[i], axis=0)\n",
        "      #Passo 2 do algoritmo - Para o padrão i Calcula S\n",
        "      s = calc_s(x,w)\n",
        "      #Passo 3 do algoritmo - Calcula y\n",
        "      y = calc_y(s)\n",
        "      #Passo 4 do algoritmo - Calcula erro     \n",
        "      erro = calc_erro(d[i], y)\n",
        "      #Passo 5 do algoritmo - Se erro <> zero, atualiza pesos \n",
        "      if erro !=0:\n",
        "          w = atualiza_pesos(w,x,erro)\n",
        "          erro_tot = erro_tot + np.abs(erro)\n",
        "    #verifica critério de parada\n",
        "    if erro_tot == 0:\n",
        "        break\n",
        "    #incrementa contador de épocas\n",
        "    cont=cont+1\n",
        "print(\"Número de épocas = \", cont)"
      ]
    },
    {
      "cell_type": "code",
      "execution_count": 8,
      "metadata": {
        "colab": {
          "base_uri": "https://localhost:8080/"
        },
        "id": "0CfkP153ngs-",
        "outputId": "a31e1dec-6dff-4c14-df10-d034731d0635"
      },
      "outputs": [
        {
          "name": "stdout",
          "output_type": "stream",
          "text": [
            "A saída para a entrada [1, 1] é: -1\n"
          ]
        }
      ],
      "source": [
        "#teste\n",
        "X = [1, 1]\n",
        "print('A saída para a entrada', X, 'é:', predicao_rna(X)) "
      ]
    }
  ],
  "metadata": {
    "colab": {
      "collapsed_sections": [],
      "provenance": []
    },
    "kernelspec": {
      "display_name": "Python 3.10.7 64-bit",
      "language": "python",
      "name": "python3"
    },
    "language_info": {
      "codemirror_mode": {
        "name": "ipython",
        "version": 3
      },
      "file_extension": ".py",
      "mimetype": "text/x-python",
      "name": "python",
      "nbconvert_exporter": "python",
      "pygments_lexer": "ipython3",
      "version": "3.10.7"
    },
    "vscode": {
      "interpreter": {
        "hash": "916dbcbb3f70747c44a77c7bcd40155683ae19c65e1c03b4aa3499c5328201f1"
      }
    }
  },
  "nbformat": 4,
  "nbformat_minor": 0
}

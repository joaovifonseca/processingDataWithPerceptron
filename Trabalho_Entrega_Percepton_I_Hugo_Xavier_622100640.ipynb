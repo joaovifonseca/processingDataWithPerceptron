{
  "nbformat": 4,
  "nbformat_minor": 0,
  "metadata": {
    "colab": {
      "provenance": [],
      "collapsed_sections": []
    },
    "kernelspec": {
      "name": "python3",
      "display_name": "Python 3"
    },
    "language_info": {
      "name": "python"
    }
  },
  "cells": [
    {
      "cell_type": "code",
      "execution_count": 37,
      "metadata": {
        "colab": {
          "base_uri": "https://localhost:8080/"
        },
        "id": "klE2IokTke6m",
        "outputId": "cf6f4e92-2dfb-43eb-9f31-ded0c23dc3e2"
      },
      "outputs": [
        {
          "output_type": "stream",
          "name": "stdout",
          "text": [
            "Drive already mounted at /content/drive; to attempt to forcibly remount, call drive.mount(\"/content/drive\", force_remount=True).\n"
          ]
        }
      ],
      "source": [
        "from google.colab import drive\n",
        "drive.mount('/content/drive')"
      ]
    },
    {
      "cell_type": "code",
      "source": [
        "import numpy as np\n",
        "import sys\n",
        "#definindo o caminho para o arquivo de treinamento\n",
        "PATH='/content/drive/MyDrive/Redes Neurais Artificiais/Materiais/Implementações/'"
      ],
      "metadata": {
        "id": "kVo6WT7tkp9G"
      },
      "execution_count": 38,
      "outputs": []
    },
    {
      "cell_type": "code",
      "source": [
        "#Variáveis globais do algoritmo\n",
        "BIAS    = 0\n",
        "TX_AP   = 0\n",
        "\n",
        "#Métodos/funções/procedimentos\n",
        "#passo 0\n",
        "def le_conj_trein(nome_arq):\n",
        "    try:\n",
        "        ct = np.loadtxt(nome_arq)\n",
        "        return ct # retorna uma a matriz no formato ndarray \n",
        "    except:\n",
        "        print(\"Verifique se o arquivo de treinamento está correto!\")\n",
        "        sys.exit()  # encerra o programa \n",
        "\n",
        "#passo 1    \n",
        "def incializa_pesos(w):\n",
        "    for i in range(len(w)):\n",
        "        w[i] = np.random.uniform(-0.9, 0.9)\n",
        "    return w\n",
        "\n",
        "#passo 2    \n",
        "def calc_s(x,w):\n",
        "    s = 0\n",
        "    for i in range(len(x)):\n",
        "        s = s + x[i] * w[i]\n",
        "    return s\n",
        "\n",
        "#passo 3    \n",
        "def calc_y(s):\n",
        "    if s>=0: return 1\n",
        "    else: return -1\n",
        "\n",
        "#passo 4    \n",
        "def calc_erro(d,y):\n",
        "    return d-y\n",
        "\n",
        "#passo 5\n",
        "def atualiza_pesos(w, x, erro):\n",
        "    w1 = w\n",
        "    for i in range(len(w)):\n",
        "        w1[i] = w[i] + TX_AP * erro * x[i]\n",
        "    return w1\n",
        "\n",
        "#Fazer predição\n",
        "def predicao_rna(v):\n",
        "    x = np.append([BIAS],v, axis=0)\n",
        "    s = calc_s(x,w)\n",
        "    y = calc_y(s)\n",
        "    return y"
      ],
      "metadata": {
        "id": "fixhN3hdlAEr"
      },
      "execution_count": 40,
      "outputs": []
    },
    {
      "cell_type": "code",
      "source": [
        "#lê o conjunto de treinamento (passo 0)\n",
        "ct = le_conj_trein(PATH+'Frutas_Tipos.txt')\n",
        "num_padroes, num_atrib = ct.shape\n",
        "#separa padroes (p) e saídas desejadas (d) - Exemplo porta OR\n",
        "#   x0  x1    d\n",
        "#   1\t  1     1\n",
        "#   1\t  0     1\n",
        "#   0\t  1     1\n",
        "#   0\t  0     0\n",
        "p = ct[:,0:num_atrib-1]\n",
        "d = ct[:,num_atrib-1]\n",
        "\n",
        "#Teste da leitura\n",
        "print('Arquivo lido\\n', ct)"
      ],
      "metadata": {
        "colab": {
          "base_uri": "https://localhost:8080/"
        },
        "id": "wTboNb4LlIA4",
        "outputId": "82cbe9ac-ff78-4da6-8274-2b8d2b8e32cd"
      },
      "execution_count": 41,
      "outputs": [
        {
          "output_type": "stream",
          "name": "stdout",
          "text": [
            "Arquivo lido\n",
            " [[ 0.1  0.4  0.7  1. ]\n",
            " [ 0.5  0.7  0.1  1. ]\n",
            " [ 0.6  0.9  0.8 -1. ]\n",
            " [ 0.3  0.7  0.2 -1. ]]\n"
          ]
        }
      ]
    },
    {
      "cell_type": "code",
      "source": [
        "#Inicializa vetor de pesos\n",
        "#w = np.zeros((num_atrib),'float')\n",
        "#w = incializa_pesos(w)\n",
        "w = np.array([0.02,0.05,0.08,0.01])\n",
        "\n",
        "#Define Taxa de Aprendizagem e BIAS\n",
        "TX_AP   = 0.5  #Taxa de Aprendizagem\n",
        "BIAS    = 1.0  #Fixa o valor de Bias\n",
        "print('Vetor de pesos inicial:', w)"
      ],
      "metadata": {
        "colab": {
          "base_uri": "https://localhost:8080/"
        },
        "id": "ew5gnvCHl9RH",
        "outputId": "fbacfc8f-d5ae-4a6a-b237-d383b692fa81"
      },
      "execution_count": 42,
      "outputs": [
        {
          "output_type": "stream",
          "name": "stdout",
          "text": [
            "Vetor de pesos inicial: [0.02 0.05 0.08 0.01]\n"
          ]
        }
      ]
    },
    {
      "cell_type": "code",
      "source": [
        "#define número total de épocas permitido e um contador\n",
        "EPOCAS = 10000\n",
        "cont = 1\n",
        "#looping (passos 2 a 7)\n",
        "while(cont < EPOCAS):\n",
        "    erro_tot = 0\n",
        "    for i in range(num_padroes):\n",
        "      x = np.append([BIAS],p[i], axis=0)\n",
        "      #Passo 2 do algoritmo - Para o padrão i Calcula S\n",
        "      s = calc_s(x,w)\n",
        "      #Passo 3 do algoritmo - Calcula y\n",
        "      y = calc_y(s)\n",
        "      #Passo 4 do algoritmo - Calcula erro     \n",
        "      erro = calc_erro(d[i], y)\n",
        "      #Passo 5 do algoritmo - Se erro <> zero, atualiza pesos \n",
        "      if erro !=0:\n",
        "          w = atualiza_pesos(w,x,erro)\n",
        "          erro_tot = erro_tot + np.abs(erro)\n",
        "    #verifica critério de parada\n",
        "    if erro_tot == 0:\n",
        "        break\n",
        "    #incrementa contador de épocas\n",
        "    cont=cont+1\n",
        "print(\"Número de épocas = \", cont)"
      ],
      "metadata": {
        "colab": {
          "base_uri": "https://localhost:8080/"
        },
        "id": "tk0GuJJDmd-9",
        "outputId": "d8d4420c-7eee-4bd0-d4a9-33d5744b5c97"
      },
      "execution_count": 43,
      "outputs": [
        {
          "output_type": "stream",
          "name": "stdout",
          "text": [
            "Número de épocas =  35\n"
          ]
        }
      ]
    },
    {
      "cell_type": "code",
      "source": [
        "#teste\n",
        "X = [0.3,0.7,0.2]\n",
        "print('A saída para a entrada', X, 'é:', predicao_rna(X)) "
      ],
      "metadata": {
        "id": "0CfkP153ngs-",
        "colab": {
          "base_uri": "https://localhost:8080/"
        },
        "outputId": "e7fae6d9-be9e-42c4-9a7d-5bf7180b5cad"
      },
      "execution_count": 44,
      "outputs": [
        {
          "output_type": "stream",
          "name": "stdout",
          "text": [
            "A saída para a entrada [0.3, 0.7, 0.2] é: -1\n"
          ]
        }
      ]
    }
  ]
}